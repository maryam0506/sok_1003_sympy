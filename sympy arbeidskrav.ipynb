{
 "cells": [
  {
   "cell_type": "markdown",
   "id": "4da6a061-b250-480e-a8af-67433372ac2f",
   "metadata": {},
   "source": [
    "## Sympy arbeidskrav 5\n",
    "\n",
    "# Modul 15\n",
    "\n",
    "Oppgave 1a:"
   ]
  },
  {
   "cell_type": "code",
   "execution_count": 3,
   "id": "eacc44fc-3c47-4e05-bede-413f1984096c",
   "metadata": {},
   "outputs": [
    {
     "name": "stdout",
     "output_type": "stream",
     "text": [
      "{x: -1, y: 2}\n"
     ]
    }
   ],
   "source": [
    "import sympy as sp\n",
    "from sympy.solvers import solve\n",
    "x,y = sp.symbols('x y')\n",
    "\n",
    "import pandas as pd\n",
    "import numpy as np\n",
    "import matplotlib.pyplot as plt\n",
    "\n",
    "eq1 = sp.Eq(2*x + 4*y, 6)\n",
    "eq1\n",
    "\n",
    "eq2 = sp.Eq(-2*x + y, 4)\n",
    "eq2\n",
    "\n",
    "result = solve ([eq1, eq2], [x, y])\n",
    "\n",
    "\n",
    "print(result)"
   ]
  },
  {
   "cell_type": "markdown",
   "id": "09866ba8-be4e-4b94-90ef-0e57e1547141",
   "metadata": {},
   "source": [
    "Oppgave 1b:\n"
   ]
  },
  {
   "cell_type": "code",
   "execution_count": 4,
   "id": "c6b38dda-af54-463c-a1b6-b3dbdf771bce",
   "metadata": {},
   "outputs": [
    {
     "name": "stdout",
     "output_type": "stream",
     "text": [
      "[(-1, -1), (2, 5)]\n"
     ]
    }
   ],
   "source": [
    "eq3= sp.Eq(2*x - y, -1)\n",
    "eq4= sp.Eq(x**2 + x - y, 1)\n",
    "\n",
    "result1= solve ([eq3, eq4], [x,y])\n",
    "\n",
    "print(result1)"
   ]
  },
  {
   "cell_type": "markdown",
   "id": "607ceb79-5e25-4053-9c5d-180dd38e8043",
   "metadata": {},
   "source": [
    "oppgave 2a:\n"
   ]
  },
  {
   "cell_type": "code",
   "execution_count": 5,
   "id": "1ca63e7d-e45b-4f34-9421-429bd2ac7647",
   "metadata": {},
   "outputs": [
    {
     "name": "stdout",
     "output_type": "stream",
     "text": [
      "{x: 4, y: 0}\n"
     ]
    }
   ],
   "source": [
    "eq5= sp.Eq(3*x - 12, -6*y)\n",
    "eq6= sp.Eq(4*x - 8*y, 16)\n",
    "\n",
    "result2= solve([eq5, eq6], [x,y])\n",
    "\n",
    "print(result2)"
   ]
  },
  {
   "cell_type": "markdown",
   "id": "1155b7f3-03fd-44ae-b8cb-36ce12987a49",
   "metadata": {},
   "source": [
    "oppgave 2b:"
   ]
  },
  {
   "cell_type": "code",
   "execution_count": 6,
   "id": "18d48016-d317-4698-b544-1f53b2116fdb",
   "metadata": {},
   "outputs": [
    {
     "name": "stdout",
     "output_type": "stream",
     "text": [
      "[(-15/2, 31/4), (2, 3)]\n"
     ]
    }
   ],
   "source": [
    "eq7= sp.Eq(x**2 + 4*x -3, 3*y)\n",
    "eq8= sp.Eq(2*y,8- x)\n",
    "\n",
    "result3= solve([eq7, eq8], [x, y])\n",
    "\n",
    "print(result3)"
   ]
  },
  {
   "cell_type": "markdown",
   "id": "6ef7f4c4-9d6d-4294-8107-21de8bf6ce30",
   "metadata": {},
   "source": [
    "\n",
    "# Modul 16"
   ]
  },
  {
   "cell_type": "markdown",
   "id": "d48b8e86-aece-444b-b19b-ae981d9df715",
   "metadata": {},
   "source": [
    "oppgave 1a"
   ]
  },
  {
   "cell_type": "code",
   "execution_count": 7,
   "id": "1b8ac313-1077-436d-bcd4-0b6cf38c1e1e",
   "metadata": {},
   "outputs": [
    {
     "name": "stdout",
     "output_type": "stream",
     "text": [
      "{x: -2, y: 10}\n"
     ]
    }
   ],
   "source": [
    "eq9= sp.Eq(4*x + 2*y, 12)\n",
    "eq10= sp.Eq(6*x + 2*y, 8)\n",
    "\n",
    "result4= solve([eq9, eq10], [x, y])\n",
    "print(result4)"
   ]
  },
  {
   "cell_type": "markdown",
   "id": "413a5bf6-d4e6-45f8-a797-4a893638cbc0",
   "metadata": {},
   "source": [
    "oppgave 1b:"
   ]
  },
  {
   "cell_type": "code",
   "execution_count": 8,
   "id": "4df98447-5fdd-4203-a5ee-d62e458176e3",
   "metadata": {},
   "outputs": [
    {
     "name": "stdout",
     "output_type": "stream",
     "text": [
      "[(0, -5), (12, 1)]\n"
     ]
    }
   ],
   "source": [
    "eq11= sp.Eq(2*x + y**2,25)\n",
    "eq12= sp.Eq(x - 2*y, 10)\n",
    "\n",
    "result5= solve([eq11, eq12], [x, y])\n",
    "\n",
    "print(result5)"
   ]
  },
  {
   "cell_type": "markdown",
   "id": "802b5bc1-2d3d-4f99-b7ad-545dedd5ee52",
   "metadata": {},
   "source": [
    "\n",
    "oppgave 2a:"
   ]
  },
  {
   "cell_type": "code",
   "execution_count": 9,
   "id": "54a6fa6c-a251-4525-b728-aea13844e398",
   "metadata": {},
   "outputs": [
    {
     "name": "stdout",
     "output_type": "stream",
     "text": [
      "{x: 4, y: 2}\n"
     ]
    }
   ],
   "source": [
    "eq13= sp.Eq(4*x - 4*y, 8)\n",
    "eq14= sp.Eq(9*x - 5*y, 26)\n",
    "\n",
    "result6= solve([eq13, eq14], [x, y])\n",
    "print(result6)"
   ]
  },
  {
   "cell_type": "markdown",
   "id": "fe950a3a-a648-4d3a-826d-67d90d6e8426",
   "metadata": {},
   "source": [
    "oppgave 2b:"
   ]
  },
  {
   "cell_type": "code",
   "execution_count": 17,
   "id": "27032ccb-1f01-406e-be6e-60360522e717",
   "metadata": {},
   "outputs": [
    {
     "name": "stdout",
     "output_type": "stream",
     "text": [
      "[(-9, -2*sqrt(3)), (-9, 2*sqrt(3)), (7, -2), (7, 2)]\n"
     ]
    }
   ],
   "source": [
    "eq15= sp.Eq(x + 2*y**2, 15)\n",
    "eq16= sp.Eq(x**2 - 4*y**2, 33)\n",
    "\n",
    "result7= solve([eq15, eq16], [x, y])\n",
    "print(result7)"
   ]
  },
  {
   "cell_type": "code",
   "execution_count": null,
   "id": "9a270f4c-b87b-424c-82dd-04581726baba",
   "metadata": {},
   "outputs": [],
   "source": []
  }
 ],
 "metadata": {
  "kernelspec": {
   "display_name": "Python 3 (ipykernel)",
   "language": "python",
   "name": "python3"
  },
  "language_info": {
   "codemirror_mode": {
    "name": "ipython",
    "version": 3
   },
   "file_extension": ".py",
   "mimetype": "text/x-python",
   "name": "python",
   "nbconvert_exporter": "python",
   "pygments_lexer": "ipython3",
   "version": "3.9.5"
  }
 },
 "nbformat": 4,
 "nbformat_minor": 5
}
