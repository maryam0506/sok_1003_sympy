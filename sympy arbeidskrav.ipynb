{
 "cells": [
  {
   "cell_type": "markdown",
   "id": "4da6a061-b250-480e-a8af-67433372ac2f",
   "metadata": {},
   "source": [
    "## Sympy arbeidskrav 5\n",
    "\n",
    "# Modul 15\n",
    "\n",
    "Oppgave 1a:"
   ]
  },
  {
   "cell_type": "code",
   "execution_count": 3,
   "id": "eacc44fc-3c47-4e05-bede-413f1984096c",
   "metadata": {},
   "outputs": [
    {
     "name": "stdout",
     "output_type": "stream",
     "text": [
      "{x: -1, y: 2}\n"
     ]
    }
   ],
   "source": [
    "import sympy as sp\n",
    "from sympy.solvers import solve\n",
    "x,y = sp.symbols('x y')\n",
    "\n",
    "import pandas as pd\n",
    "import numpy as np\n",
    "import matplotlib.pyplot as plt\n",
    "\n",
    "eq1 = sp.Eq(2*x + 4*y, 6)\n",
    "eq1\n",
    "\n",
    "eq2 = sp.Eq(-2*x + y, 4)\n",
    "eq2\n",
    "\n",
    "result = solve ([eq1, eq2], [x, y])\n",
    "\n",
    "\n",
    "print(result)"
   ]
  },
  {
   "cell_type": "markdown",
   "id": "09866ba8-be4e-4b94-90ef-0e57e1547141",
   "metadata": {},
   "source": [
    "Oppgave 1b:\n"
   ]
  },
  {
   "cell_type": "code",
   "execution_count": 4,
   "id": "c6b38dda-af54-463c-a1b6-b3dbdf771bce",
   "metadata": {},
   "outputs": [
    {
     "name": "stdout",
     "output_type": "stream",
     "text": [
      "[(-1, -1), (2, 5)]\n"
     ]
    }
   ],
   "source": [
    "eq3= sp.Eq(2*x - y, -1)\n",
    "eq4= sp.Eq(x**2 + x - y, 1)\n",
    "\n",
    "result1= solve ([eq3, eq4], [x,y])\n",
    "\n",
    "print(result1)"
   ]
  },
  {
   "cell_type": "markdown",
   "id": "607ceb79-5e25-4053-9c5d-180dd38e8043",
   "metadata": {},
   "source": [
    "oppgave 2a:\n"
   ]
  },
  {
   "cell_type": "code",
   "execution_count": 5,
   "id": "1ca63e7d-e45b-4f34-9421-429bd2ac7647",
   "metadata": {},
   "outputs": [
    {
     "name": "stdout",
     "output_type": "stream",
     "text": [
      "{x: 4, y: 0}\n"
     ]
    }
   ],
   "source": [
    "eq5= sp.Eq(3*x - 12, -6*y)\n",
    "eq6= sp.Eq(4*x - 8*y, 16)\n",
    "\n",
    "result2= solve([eq5, eq6], [x,y])\n",
    "\n",
    "print(result2)"
   ]
  },
  {
   "cell_type": "markdown",
   "id": "1155b7f3-03fd-44ae-b8cb-36ce12987a49",
   "metadata": {},
   "source": [
    "oppgave 2b:"
   ]
  },
  {
   "cell_type": "code",
   "execution_count": 6,
   "id": "18d48016-d317-4698-b544-1f53b2116fdb",
   "metadata": {},
   "outputs": [
    {
     "name": "stdout",
     "output_type": "stream",
     "text": [
      "[(-15/2, 31/4), (2, 3)]\n"
     ]
    }
   ],
   "source": [
    "eq7= sp.Eq(x**2 + 4*x -3, 3*y)\n",
    "eq8= sp.Eq(2*y,8- x)\n",
    "\n",
    "result3= solve([eq7, eq8], [x, y])\n",
    "\n",
    "print(result3)"
   ]
  },
  {
   "cell_type": "markdown",
   "id": "6ef7f4c4-9d6d-4294-8107-21de8bf6ce30",
   "metadata": {},
   "source": [
    "\n",
    "# Modul 16"
   ]
  },
  {
   "cell_type": "markdown",
   "id": "d48b8e86-aece-444b-b19b-ae981d9df715",
   "metadata": {},
   "source": [
    "oppgave 1a"
   ]
  },
  {
   "cell_type": "code",
   "execution_count": 7,
   "id": "1b8ac313-1077-436d-bcd4-0b6cf38c1e1e",
   "metadata": {},
   "outputs": [
    {
     "name": "stdout",
     "output_type": "stream",
     "text": [
      "{x: -2, y: 10}\n"
     ]
    }
   ],
   "source": [
    "eq9= sp.Eq(4*x + 2*y, 12)\n",
    "eq10= sp.Eq(6*x + 2*y, 8)\n",
    "\n",
    "result4= solve([eq9, eq10], [x, y])\n",
    "print(result4)"
   ]
  },
  {
   "cell_type": "markdown",
   "id": "413a5bf6-d4e6-45f8-a797-4a893638cbc0",
   "metadata": {},
   "source": [
    "oppgave 1b:"
   ]
  },
  {
   "cell_type": "code",
   "execution_count": 8,
   "id": "4df98447-5fdd-4203-a5ee-d62e458176e3",
   "metadata": {},
   "outputs": [
    {
     "name": "stdout",
     "output_type": "stream",
     "text": [
      "[(0, -5), (12, 1)]\n"
     ]
    }
   ],
   "source": [
    "eq11= sp.Eq(2*x + y**2,25)\n",
    "eq12= sp.Eq(x - 2*y, 10)\n",
    "\n",
    "result5= solve([eq11, eq12], [x, y])\n",
    "\n",
    "print(result5)"
   ]
  },
  {
   "cell_type": "markdown",
   "id": "802b5bc1-2d3d-4f99-b7ad-545dedd5ee52",
   "metadata": {},
   "source": [
    "\n",
    "oppgave 2a:"
   ]
  },
  {
   "cell_type": "code",
   "execution_count": 9,
   "id": "54a6fa6c-a251-4525-b728-aea13844e398",
   "metadata": {},
   "outputs": [
    {
     "name": "stdout",
     "output_type": "stream",
     "text": [
      "{x: 4, y: 2}\n"
     ]
    }
   ],
   "source": [
    "eq13= sp.Eq(4*x - 4*y, 8)\n",
    "eq14= sp.Eq(9*x - 5*y, 26)\n",
    "\n",
    "result6= solve([eq13, eq14], [x, y])\n",
    "print(result6)"
   ]
  },
  {
   "cell_type": "markdown",
   "id": "fe950a3a-a648-4d3a-826d-67d90d6e8426",
   "metadata": {},
   "source": [
    "oppgave 2b:"
   ]
  },
  {
   "cell_type": "code",
   "execution_count": 17,
   "id": "27032ccb-1f01-406e-be6e-60360522e717",
   "metadata": {},
   "outputs": [
    {
     "name": "stdout",
     "output_type": "stream",
     "text": [
      "[(-9, -2*sqrt(3)), (-9, 2*sqrt(3)), (7, -2), (7, 2)]\n"
     ]
    }
   ],
   "source": [
    "eq15= sp.Eq(x + 2*y**2, 15)\n",
    "eq16= sp.Eq(x**2 - 4*y**2, 33)\n",
    "\n",
    "result7= solve([eq15, eq16], [x, y])\n",
    "print(result7)"
   ]
  },
  {
   "cell_type": "markdown",
   "id": "b1e14754-ea19-43cd-9e77-59486e109f1f",
   "metadata": {},
   "source": [
    "# Modul 17"
   ]
  },
  {
   "cell_type": "markdown",
   "id": "802b6c47-0dc8-4976-8646-a7bb6855ed80",
   "metadata": {},
   "source": [
    "oppgave 1a:"
   ]
  },
  {
   "cell_type": "code",
   "execution_count": 18,
   "id": "532495b3-56a5-428b-a0c3-c968f83ec404",
   "metadata": {},
   "outputs": [
    {
     "name": "stdout",
     "output_type": "stream",
     "text": [
      "[(0, -4), (0, 4), (15, -1), (15, 1)]\n"
     ]
    }
   ],
   "source": [
    "eq17= sp.Eq(x*y**2 - x, 0)\n",
    "eq18= sp.Eq(x + y**2, 16)\n",
    "\n",
    "result8= solve([eq17, eq18], [x, y])\n",
    "print(result8)"
   ]
  },
  {
   "cell_type": "markdown",
   "id": "aa1f1418-dcef-4b85-ab43-d77a51209a30",
   "metadata": {},
   "source": [
    "oppgave 1b:"
   ]
  },
  {
   "cell_type": "code",
   "execution_count": 20,
   "id": "e1580d30-6959-40c9-9b43-5e2dc86787db",
   "metadata": {},
   "outputs": [
    {
     "name": "stdout",
     "output_type": "stream",
     "text": [
      "[(-10, 0), (-6, -8), (-6, 8), (6, -8), (6, 8), (10, 0)]\n"
     ]
    }
   ],
   "source": [
    "eq17= sp.Eq(x**2 + y**2, 100)\n",
    "eq18= sp.Eq(x**2*y-36*y, 0)\n",
    "\n",
    "result9= solve([eq17, eq18], [x, y])\n",
    "print(result9)"
   ]
  },
  {
   "cell_type": "markdown",
   "id": "1eb1c165-9680-4e3f-a211-97ca2eb516ad",
   "metadata": {},
   "source": [
    "oppgave 2a:"
   ]
  },
  {
   "cell_type": "code",
   "execution_count": 24,
   "id": "c33f6097-e688-44dd-8684-de733fc762a6",
   "metadata": {},
   "outputs": [
    {
     "name": "stdout",
     "output_type": "stream",
     "text": [
      "[(-3, -7), (-3, 7), (0, -sqrt(58)), (0, sqrt(58)), (3, -7), (3, 7)]\n"
     ]
    }
   ],
   "source": [
    "eq19= sp.Eq(x*y**2 - 49*x, 0)\n",
    "eq20= sp.Eq(x**2 + y**2,  58)\n",
    "\n",
    "result10= solve([eq19, eq20], [x, y])\n",
    "print(result10)"
   ]
  },
  {
   "cell_type": "markdown",
   "id": "12adacd2-adf7-4760-a14c-ba0eb7e6424e",
   "metadata": {},
   "source": [
    "oppgave 2b:"
   ]
  },
  {
   "cell_type": "code",
   "execution_count": 27,
   "id": "3d1d1b0b-64f2-478a-932f-df3300422c1f",
   "metadata": {},
   "outputs": [
    {
     "name": "stdout",
     "output_type": "stream",
     "text": [
      "[(-1.11803398874989, 0.0), (-0.500000000000000, -1.00000000000000), (-0.500000000000000, 1.00000000000000), (1.11803398874989, 0.0)]\n"
     ]
    }
   ],
   "source": [
    "eq21= sp.Eq(x**2 + y**2, 5/4)\n",
    "eq22= sp.Eq(2*x*y + y, 0)\n",
    "\n",
    "result11= solve([eq21, eq22], [x, y])\n",
    "print(result11)"
   ]
  },
  {
   "cell_type": "markdown",
   "id": "4994b25f-6c01-41d2-88f5-2bf08cbb1a32",
   "metadata": {},
   "source": [
    "# Modul 19"
   ]
  },
  {
   "cell_type": "markdown",
   "id": "6ff00cb8-a88f-4944-9644-f7d37b3ef7ce",
   "metadata": {},
   "source": [
    "oppgave 1a:"
   ]
  },
  {
   "cell_type": "code",
   "execution_count": 29,
   "id": "8ab77874-68bb-456d-9fd7-3033215b555f",
   "metadata": {},
   "outputs": [
    {
     "data": {
      "text/latex": [
       "$\\displaystyle 5 x^{4}$"
      ],
      "text/plain": [
       "5*x**4"
      ]
     },
     "execution_count": 29,
     "metadata": {},
     "output_type": "execute_result"
    }
   ],
   "source": [
    "eq23= sp.diff(x**5)\n",
    "eq23"
   ]
  },
  {
   "cell_type": "markdown",
   "id": "9c17ee96-95fc-4f49-ab98-0bcbcd49282f",
   "metadata": {},
   "source": [
    "oppgave 1b:"
   ]
  },
  {
   "cell_type": "code",
   "execution_count": 30,
   "id": "745e4bbb-8037-487d-bf60-baa6be9a4b31",
   "metadata": {},
   "outputs": [
    {
     "data": {
      "text/latex": [
       "$\\displaystyle 1$"
      ],
      "text/plain": [
       "1"
      ]
     },
     "execution_count": 30,
     "metadata": {},
     "output_type": "execute_result"
    }
   ],
   "source": [
    "eq24= sp.diff(x+12)\n",
    "eq24"
   ]
  },
  {
   "cell_type": "markdown",
   "id": "02653e4c-509b-4ebd-8d15-d2dbc97a9e8a",
   "metadata": {},
   "source": [
    "oppgave 1c"
   ]
  },
  {
   "cell_type": "code",
   "execution_count": 31,
   "id": "429d1e06-fc19-4357-a515-4d80311e4f65",
   "metadata": {},
   "outputs": [
    {
     "data": {
      "text/latex": [
       "$\\displaystyle 3 x^{2} + 8 x$"
      ],
      "text/plain": [
       "3*x**2 + 8*x"
      ]
     },
     "execution_count": 31,
     "metadata": {},
     "output_type": "execute_result"
    }
   ],
   "source": [
    "eq25= sp.diff(x**3 + 4*x**2)\n",
    "eq25"
   ]
  },
  {
   "cell_type": "markdown",
   "id": "e43eedc3-0c43-4357-9d01-7a20879cb249",
   "metadata": {},
   "source": [
    "oppgave 1d"
   ]
  },
  {
   "cell_type": "code",
   "execution_count": 33,
   "id": "6e6ef023-d410-45c2-bc55-363f449929da",
   "metadata": {},
   "outputs": [
    {
     "data": {
      "text/latex": [
       "$\\displaystyle 6 x^{2}$"
      ],
      "text/plain": [
       "6*x**2"
      ]
     },
     "execution_count": 33,
     "metadata": {},
     "output_type": "execute_result"
    }
   ],
   "source": [
    "eq26= sp.diff(2*x**3 + sp.sqrt(36))\n",
    "eq26"
   ]
  },
  {
   "cell_type": "markdown",
   "id": "3528bcaf-2d26-4583-b78f-35abbdb396d8",
   "metadata": {},
   "source": [
    "oppgave 1e"
   ]
  },
  {
   "cell_type": "code",
   "execution_count": 34,
   "id": "2b16627e-bc7e-453a-a39f-1f33435a410a",
   "metadata": {},
   "outputs": [
    {
     "data": {
      "text/latex": [
       "$\\displaystyle \\frac{1}{2 \\sqrt{x}}$"
      ],
      "text/plain": [
       "1/(2*sqrt(x))"
      ]
     },
     "execution_count": 34,
     "metadata": {},
     "output_type": "execute_result"
    }
   ],
   "source": [
    "eq27= sp.diff(sp.sqrt(x)+ 5**2)\n",
    "eq27"
   ]
  },
  {
   "cell_type": "markdown",
   "id": "1d1f967f-b93d-42f2-ad4d-1e7fc035e202",
   "metadata": {},
   "source": [
    "oppgave 1f"
   ]
  },
  {
   "cell_type": "code",
   "execution_count": 35,
   "id": "4750816c-9611-4cd4-8130-2b5ce9f98fe8",
   "metadata": {},
   "outputs": [
    {
     "data": {
      "text/latex": [
       "$\\displaystyle 3 x^{2} - \\frac{1}{x^{2}}$"
      ],
      "text/plain": [
       "3*x**2 - 1/x**2"
      ]
     },
     "execution_count": 35,
     "metadata": {},
     "output_type": "execute_result"
    }
   ],
   "source": [
    "eq28= sp.diff(x**3 + 1/x)\n",
    "eq28"
   ]
  },
  {
   "cell_type": "markdown",
   "id": "33bca23e-9454-4792-9f6e-78d832905322",
   "metadata": {},
   "source": [
    "oppgave 1g"
   ]
  },
  {
   "cell_type": "code",
   "execution_count": 36,
   "id": "1da460ba-6e30-42a4-affb-bf2cd1105571",
   "metadata": {},
   "outputs": [
    {
     "data": {
      "text/latex": [
       "$\\displaystyle 3 x^{2} - 2 x + 0.25$"
      ],
      "text/plain": [
       "3*x**2 - 2*x + 0.25"
      ]
     },
     "execution_count": 36,
     "metadata": {},
     "output_type": "execute_result"
    }
   ],
   "source": [
    "eq29= sp.diff(x**3 - x**2 + (1/4)*x)\n",
    "eq29"
   ]
  },
  {
   "cell_type": "markdown",
   "id": "903a5eb8-071b-4988-8ed7-681cfd0bfb3e",
   "metadata": {},
   "source": [
    "\n",
    "Oppgave 2a"
   ]
  },
  {
   "cell_type": "code",
   "execution_count": 37,
   "id": "e6b1b3d4-fbb0-4d52-b132-f45c3b74faf3",
   "metadata": {},
   "outputs": [
    {
     "data": {
      "text/latex": [
       "$\\displaystyle 36 x^{5} - \\frac{1}{x^{2}}$"
      ],
      "text/plain": [
       "36*x**5 - 1/x**2"
      ]
     },
     "execution_count": 37,
     "metadata": {},
     "output_type": "execute_result"
    }
   ],
   "source": [
    "eq30= sp.diff(1/x + 6*x**6)\n",
    "eq30"
   ]
  },
  {
   "cell_type": "markdown",
   "id": "17086b5c-e7bb-4be2-a7cc-bbcaee0ec7e0",
   "metadata": {},
   "source": [
    "oppgave 2b"
   ]
  },
  {
   "cell_type": "code",
   "execution_count": 38,
   "id": "3724bbca-ba42-43cf-90f1-629aeedd5246",
   "metadata": {},
   "outputs": [
    {
     "data": {
      "text/latex": [
       "$\\displaystyle 1.5 x^{2} - 1$"
      ],
      "text/plain": [
       "1.5*x**2 - 1"
      ]
     },
     "execution_count": 38,
     "metadata": {},
     "output_type": "execute_result"
    }
   ],
   "source": [
    "eq31= sp.diff(-x + (1/2)*x**3)\n",
    "eq31"
   ]
  },
  {
   "cell_type": "markdown",
   "id": "f8b9bb40-a56b-4acc-80da-e3998a2544bd",
   "metadata": {},
   "source": [
    "oppgave 2c"
   ]
  },
  {
   "cell_type": "code",
   "execution_count": 40,
   "id": "69dd1d23-f316-4cfd-8878-a1c88f5f5f99",
   "metadata": {},
   "outputs": [
    {
     "data": {
      "text/latex": [
       "$\\displaystyle 3 x^{2} + 4 x - 3$"
      ],
      "text/plain": [
       "3*x**2 + 4*x - 3"
      ]
     },
     "execution_count": 40,
     "metadata": {},
     "output_type": "execute_result"
    }
   ],
   "source": [
    "eq32= sp.diff(x*(x**2 + 2*x - 3))\n",
    "sp.simplify(eq32)"
   ]
  },
  {
   "cell_type": "markdown",
   "id": "34f69084-dfca-432d-a9a7-7d2f690cb86a",
   "metadata": {},
   "source": [
    "## Modul 20"
   ]
  },
  {
   "cell_type": "markdown",
   "id": "6f5f82e4-1a63-4ca9-8b61-7e1d2561d256",
   "metadata": {},
   "source": [
    "oppgave 1e"
   ]
  },
  {
   "cell_type": "code",
   "execution_count": 50,
   "id": "1d0f3d5d-dfb1-403b-8dea-479eb4ae7b56",
   "metadata": {},
   "outputs": [
    {
     "data": {
      "text/latex": [
       "$\\displaystyle 9 x^{8}$"
      ],
      "text/plain": [
       "9*x**8"
      ]
     },
     "execution_count": 50,
     "metadata": {},
     "output_type": "execute_result"
    }
   ],
   "source": [
    "eq33= sp.diff(x**4 * x**5)\n",
    "eq33"
   ]
  },
  {
   "cell_type": "markdown",
   "id": "f2b5f925-836d-4f3b-90bd-c795b7432ed3",
   "metadata": {},
   "source": [
    "Oppgave 1f"
   ]
  },
  {
   "cell_type": "code",
   "execution_count": 4,
   "id": "35e28a95-5ceb-43a3-a7d1-ea82c412c4ad",
   "metadata": {},
   "outputs": [
    {
     "data": {
      "text/latex": [
       "$\\displaystyle \\frac{3 \\sqrt{x}}{2}$"
      ],
      "text/plain": [
       "3*sqrt(x)/2"
      ]
     },
     "metadata": {},
     "output_type": "display_data"
    }
   ],
   "source": [
    "display(sp.diff(x * sp.sqrt(x)))"
   ]
  },
  {
   "cell_type": "markdown",
   "id": "819753b1-eaae-456f-a51f-77d9f976e7da",
   "metadata": {},
   "source": [
    "oppgave 1g"
   ]
  },
  {
   "cell_type": "code",
   "execution_count": 7,
   "id": "c180233e-10f9-4542-93a3-b1492b80bebe",
   "metadata": {},
   "outputs": [
    {
     "data": {
      "text/latex": [
       "$\\displaystyle - \\frac{6}{x^{4}}$"
      ],
      "text/plain": [
       "-6/x**4"
      ]
     },
     "execution_count": 7,
     "metadata": {},
     "output_type": "execute_result"
    }
   ],
   "source": [
    "eq34 = sp.diff(2/(x**3))\n",
    "eq34"
   ]
  },
  {
   "cell_type": "markdown",
   "id": "83ada658-c903-44c1-8dc1-68322356645f",
   "metadata": {},
   "source": [
    "oppgave h"
   ]
  },
  {
   "cell_type": "code",
   "execution_count": 10,
   "id": "3d68c5f4-7317-45d6-97e9-f76c48ea3e19",
   "metadata": {},
   "outputs": [
    {
     "data": {
      "text/latex": [
       "$\\displaystyle \\frac{6 - x^{2}}{x^{4}}$"
      ],
      "text/plain": [
       "(6 - x**2)/x**4"
      ]
     },
     "execution_count": 10,
     "metadata": {},
     "output_type": "execute_result"
    }
   ],
   "source": [
    "eq35=sp.diff(((x**2)-2)/x**3)\n",
    "sp.simplify(eq35)"
   ]
  },
  {
   "cell_type": "markdown",
   "id": "8edf9b3c-4785-4017-8bb1-c4e1042c1f6a",
   "metadata": {},
   "source": [
    "oppgave i"
   ]
  },
  {
   "cell_type": "code",
   "execution_count": 14,
   "id": "dbd95f33-de81-4af9-a9ba-a0a1baae8950",
   "metadata": {},
   "outputs": [
    {
     "data": {
      "text/latex": [
       "$\\displaystyle \\frac{13 x^{\\frac{11}{2}}}{2}$"
      ],
      "text/plain": [
       "13*x**(11/2)/2"
      ]
     },
     "execution_count": 14,
     "metadata": {},
     "output_type": "execute_result"
    }
   ],
   "source": [
    "eq36= sp.diff(sp.sqrt(x) * x**6)\n",
    "sp.simplify(eq36)"
   ]
  },
  {
   "cell_type": "markdown",
   "id": "83e54975-3911-4a7b-9df1-1fe504d7cd9f",
   "metadata": {},
   "source": [
    "oppgave j"
   ]
  },
  {
   "cell_type": "code",
   "execution_count": 16,
   "id": "5d349557-d043-4493-94ad-1fedd1a4c017",
   "metadata": {},
   "outputs": [
    {
     "data": {
      "text/latex": [
       "$\\displaystyle 3 x^{2} + 1$"
      ],
      "text/plain": [
       "3*x**2 + 1"
      ]
     },
     "execution_count": 16,
     "metadata": {},
     "output_type": "execute_result"
    }
   ],
   "source": [
    "eq37=sp.diff(x * ((x**2)+1))\n",
    "eq37"
   ]
  },
  {
   "cell_type": "markdown",
   "id": "ede948e4-f444-40d5-b4d3-8113ba0d47fe",
   "metadata": {},
   "source": [
    "oppgave k"
   ]
  },
  {
   "cell_type": "code",
   "execution_count": 20,
   "id": "572c8467-6121-4f0a-86ac-4d911d147c6a",
   "metadata": {},
   "outputs": [
    {
     "data": {
      "text/latex": [
       "$\\displaystyle - \\frac{x \\left(x^{3} + 12 x + 2\\right)}{x^{6} - 2 x^{3} + 1}$"
      ],
      "text/plain": [
       "-x*(x**3 + 12*x + 2)/(x**6 - 2*x**3 + 1)"
      ]
     },
     "execution_count": 20,
     "metadata": {},
     "output_type": "execute_result"
    }
   ],
   "source": [
    "eq38=sp.diff((x**2 + 4)/(x**3-1))\n",
    "sp.simplify(eq38)"
   ]
  },
  {
   "cell_type": "markdown",
   "id": "4f9624e7-b109-4baf-8510-814e4786906a",
   "metadata": {},
   "source": [
    "oppgave l"
   ]
  },
  {
   "cell_type": "code",
   "execution_count": 25,
   "id": "5caaff0d-19d4-40c2-9572-2339f4625528",
   "metadata": {},
   "outputs": [
    {
     "data": {
      "text/latex": [
       "$\\displaystyle \\frac{2}{\\left(x + 2\\right)^{2}}$"
      ],
      "text/plain": [
       "2/(x + 2)**2"
      ]
     },
     "execution_count": 25,
     "metadata": {},
     "output_type": "execute_result"
    }
   ],
   "source": [
    "eq39= sp.diff((x**2)/((x**2)+2*x))\n",
    "sp.simplify(eq39)"
   ]
  },
  {
   "cell_type": "markdown",
   "id": "cfcff9bd-a6d4-4de3-be1a-520940705456",
   "metadata": {},
   "source": [
    "oppgave m"
   ]
  },
  {
   "cell_type": "code",
   "execution_count": 27,
   "id": "9e90daa0-85c2-4dfc-9022-8631db50a5b0",
   "metadata": {},
   "outputs": [
    {
     "data": {
      "text/latex": [
       "$\\displaystyle \\frac{x^{2} - 4 x - 10}{x^{2} - 4 x + 4}$"
      ],
      "text/plain": [
       "(x**2 - 4*x - 10)/(x**2 - 4*x + 4)"
      ]
     },
     "execution_count": 27,
     "metadata": {},
     "output_type": "execute_result"
    }
   ],
   "source": [
    "eq40=sp.diff(((x**2) + 4 * x + 2) / (x-2))\n",
    "sp.simplify(eq40)"
   ]
  },
  {
   "cell_type": "markdown",
   "id": "e51f8283-43e5-4a95-80b3-b2d70c8ffd13",
   "metadata": {},
   "source": [
    "\n",
    "\n",
    "Oppgave 2a"
   ]
  },
  {
   "cell_type": "code",
   "execution_count": 30,
   "id": "05b94e2f-74cb-4fcc-a4b7-7f8fffdf7028",
   "metadata": {},
   "outputs": [
    {
     "data": {
      "text/latex": [
       "$\\displaystyle \\frac{x^{4} - x^{2} + 2}{x^{4} - 2 x^{2} + 1}$"
      ],
      "text/plain": [
       "(x**4 - x**2 + 2)/(x**4 - 2*x**2 + 1)"
      ]
     },
     "execution_count": 30,
     "metadata": {},
     "output_type": "execute_result"
    }
   ],
   "source": [
    "eq41 = sp.diff(((x**3)-2*x)/((x**2)-1))\n",
    "sp.simplify(eq41)"
   ]
  },
  {
   "cell_type": "markdown",
   "id": "cb99cbe8-2cc5-4862-9126-5de2a552cad3",
   "metadata": {},
   "source": [
    "oppgave 2b"
   ]
  },
  {
   "cell_type": "code",
   "execution_count": 32,
   "id": "536654af-aa35-48fc-916d-9689836a513b",
   "metadata": {},
   "outputs": [
    {
     "data": {
      "text/latex": [
       "$\\displaystyle 4 x^{3}$"
      ],
      "text/plain": [
       "4*x**3"
      ]
     },
     "execution_count": 32,
     "metadata": {},
     "output_type": "execute_result"
    }
   ],
   "source": [
    "eq42=sp.diff(((x**2)+1)*((x**2)-1))\n",
    "sp.simplify(eq42)"
   ]
  },
  {
   "cell_type": "markdown",
   "id": "b7b30618-6dac-45cb-9425-060d3bd6a26c",
   "metadata": {},
   "source": [
    "oppgave 2c"
   ]
  },
  {
   "cell_type": "code",
   "execution_count": 35,
   "id": "692a4a04-b906-4be1-a0f4-a7d5a69356af",
   "metadata": {},
   "outputs": [
    {
     "data": {
      "text/latex": [
       "$\\displaystyle \\frac{3 \\left(- 2 x^{3} + 4 x^{2} + 7\\right)}{x^{6} + 14 x^{3} + 49}$"
      ],
      "text/plain": [
       "3*(-2*x**3 + 4*x**2 + 7)/(x**6 + 14*x**3 + 49)"
      ]
     },
     "execution_count": 35,
     "metadata": {},
     "output_type": "execute_result"
    }
   ],
   "source": [
    "eq43=sp.diff((3*x - 4)/((x**3)+7))\n",
    "sp.simplify(eq43)"
   ]
  },
  {
   "cell_type": "markdown",
   "id": "a9e43c7c-229f-481c-b7b9-c97e224b42d1",
   "metadata": {},
   "source": [
    "## Modul 21"
   ]
  },
  {
   "cell_type": "code",
   "execution_count": null,
   "id": "946e81ee-2734-4d98-98c7-87690a9ed592",
   "metadata": {},
   "outputs": [],
   "source": []
  }
 ],
 "metadata": {
  "kernelspec": {
   "display_name": "Python 3 (ipykernel)",
   "language": "python",
   "name": "python3"
  },
  "language_info": {
   "codemirror_mode": {
    "name": "ipython",
    "version": 3
   },
   "file_extension": ".py",
   "mimetype": "text/x-python",
   "name": "python",
   "nbconvert_exporter": "python",
   "pygments_lexer": "ipython3",
   "version": "3.9.5"
  }
 },
 "nbformat": 4,
 "nbformat_minor": 5
}
