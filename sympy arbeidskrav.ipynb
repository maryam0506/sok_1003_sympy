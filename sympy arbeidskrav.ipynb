{
 "cells": [
  {
   "cell_type": "markdown",
   "id": "4da6a061-b250-480e-a8af-67433372ac2f",
   "metadata": {},
   "source": [
    "## Sympy arbeidskrav 5\n",
    "\n",
    "# Modul 15\n",
    "\n",
    "Oppgave 1a:"
   ]
  },
  {
   "cell_type": "code",
   "execution_count": 2,
   "id": "eacc44fc-3c47-4e05-bede-413f1984096c",
   "metadata": {},
   "outputs": [
    {
     "name": "stdout",
     "output_type": "stream",
     "text": [
      "{x: -1, y: 2}\n"
     ]
    }
   ],
   "source": [
    "import sympy as sp\n",
    "from sympy.solvers import solve\n",
    "x,y = sp.symbols('x y')\n",
    "\n",
    "import pandas as pd\n",
    "import numpy as np\n",
    "import matplotlib.pyplot as plt\n",
    "\n",
    "eq1 = sp.Eq(2*x + 4*y, 6)\n",
    "eq1\n",
    "\n",
    "eq2 = sp.Eq(-2*x + y, 4)\n",
    "eq2\n",
    "\n",
    "result = solve ([eq1, eq2], [x, y])\n",
    "\n",
    "\n",
    "print(result)"
   ]
  },
  {
   "cell_type": "markdown",
   "id": "09866ba8-be4e-4b94-90ef-0e57e1547141",
   "metadata": {},
   "source": [
    "Oppgave 1b:\n"
   ]
  },
  {
   "cell_type": "code",
   "execution_count": 3,
   "id": "c6b38dda-af54-463c-a1b6-b3dbdf771bce",
   "metadata": {},
   "outputs": [
    {
     "name": "stdout",
     "output_type": "stream",
     "text": [
      "[(-1, -1), (2, 5)]\n"
     ]
    }
   ],
   "source": [
    "eq3= sp.Eq(2*x - y, -1)\n",
    "eq4= sp.Eq(x**2 + x - y, 1)\n",
    "\n",
    "result1= solve ([eq3, eq4], [x,y])\n",
    "\n",
    "print(result1)"
   ]
  },
  {
   "cell_type": "markdown",
   "id": "607ceb79-5e25-4053-9c5d-180dd38e8043",
   "metadata": {},
   "source": [
    "oppgave 2a:\n"
   ]
  },
  {
   "cell_type": "code",
   "execution_count": 6,
   "id": "1ca63e7d-e45b-4f34-9421-429bd2ac7647",
   "metadata": {},
   "outputs": [
    {
     "name": "stdout",
     "output_type": "stream",
     "text": [
      "{x: 4, y: 0}\n"
     ]
    }
   ],
   "source": [
    "eq5= sp.Eq(3*x - 12, -6*y)\n",
    "eq6= sp.Eq(4*x - 8*y, 16)\n",
    "\n",
    "result2= solve([eq5, eq6], [x,y])\n",
    "\n",
    "print(result2)"
   ]
  },
  {
   "cell_type": "markdown",
   "id": "1155b7f3-03fd-44ae-b8cb-36ce12987a49",
   "metadata": {},
   "source": [
    "oppgave 2b:"
   ]
  },
  {
   "cell_type": "code",
   "execution_count": 7,
   "id": "18d48016-d317-4698-b544-1f53b2116fdb",
   "metadata": {},
   "outputs": [
    {
     "name": "stdout",
     "output_type": "stream",
     "text": [
      "[(-15/2, 31/4), (2, 3)]\n"
     ]
    }
   ],
   "source": [
    "eq7= sp.Eq(x**2 + 4*x -3, 3*y)\n",
    "eq8= sp.Eq(2*y,8- x)\n",
    "\n",
    "result3= solve([eq7, eq8], [x, y])\n",
    "\n",
    "print(result3)"
   ]
  },
  {
   "cell_type": "markdown",
   "id": "6ef7f4c4-9d6d-4294-8107-21de8bf6ce30",
   "metadata": {},
   "source": [
    "\n",
    "# Modul 16"
   ]
  },
  {
   "cell_type": "markdown",
   "id": "d48b8e86-aece-444b-b19b-ae981d9df715",
   "metadata": {},
   "source": [
    "oppgave 1a"
   ]
  },
  {
   "cell_type": "code",
   "execution_count": 8,
   "id": "1b8ac313-1077-436d-bcd4-0b6cf38c1e1e",
   "metadata": {},
   "outputs": [
    {
     "name": "stdout",
     "output_type": "stream",
     "text": [
      "{x: -2, y: 10}\n"
     ]
    }
   ],
   "source": [
    "eq9= sp.Eq(4*x + 2*y, 12)\n",
    "eq10= sp.Eq(6*x + 2*y, 8)\n",
    "\n",
    "result4= solve([eq9, eq10], [x, y])\n",
    "print(result4)"
   ]
  },
  {
   "cell_type": "markdown",
   "id": "413a5bf6-d4e6-45f8-a797-4a893638cbc0",
   "metadata": {},
   "source": [
    "oppgave 1b:"
   ]
  },
  {
   "cell_type": "code",
   "execution_count": 8,
   "id": "4df98447-5fdd-4203-a5ee-d62e458176e3",
   "metadata": {},
   "outputs": [
    {
     "name": "stdout",
     "output_type": "stream",
     "text": [
      "[(0, -5), (12, 1)]\n"
     ]
    }
   ],
   "source": [
    "eq11= sp.Eq(2*x + y**2,25)\n",
    "eq12= sp.Eq(x - 2*y, 10)\n",
    "\n",
    "result5= solve([eq11, eq12], [x, y])\n",
    "\n",
    "print(result5)"
   ]
  },
  {
   "cell_type": "markdown",
   "id": "802b5bc1-2d3d-4f99-b7ad-545dedd5ee52",
   "metadata": {},
   "source": [
    "\n",
    "oppgave 2a:"
   ]
  },
  {
   "cell_type": "code",
   "execution_count": 9,
   "id": "54a6fa6c-a251-4525-b728-aea13844e398",
   "metadata": {},
   "outputs": [
    {
     "name": "stdout",
     "output_type": "stream",
     "text": [
      "{x: 4, y: 2}\n"
     ]
    }
   ],
   "source": [
    "eq13= sp.Eq(4*x - 4*y, 8)\n",
    "eq14= sp.Eq(9*x - 5*y, 26)\n",
    "\n",
    "result6= solve([eq13, eq14], [x, y])\n",
    "print(result6)"
   ]
  },
  {
   "cell_type": "markdown",
   "id": "fe950a3a-a648-4d3a-826d-67d90d6e8426",
   "metadata": {},
   "source": [
    "oppgave 2b:"
   ]
  },
  {
   "cell_type": "code",
   "execution_count": 17,
   "id": "27032ccb-1f01-406e-be6e-60360522e717",
   "metadata": {},
   "outputs": [
    {
     "name": "stdout",
     "output_type": "stream",
     "text": [
      "[(-9, -2*sqrt(3)), (-9, 2*sqrt(3)), (7, -2), (7, 2)]\n"
     ]
    }
   ],
   "source": [
    "eq15= sp.Eq(x + 2*y**2, 15)\n",
    "eq16= sp.Eq(x**2 - 4*y**2, 33)\n",
    "\n",
    "result7= solve([eq15, eq16], [x, y])\n",
    "print(result7)"
   ]
  },
  {
   "cell_type": "markdown",
   "id": "b1e14754-ea19-43cd-9e77-59486e109f1f",
   "metadata": {},
   "source": [
    "# Modul 17"
   ]
  },
  {
   "cell_type": "markdown",
   "id": "802b6c47-0dc8-4976-8646-a7bb6855ed80",
   "metadata": {},
   "source": [
    "oppgave 1a:"
   ]
  },
  {
   "cell_type": "code",
   "execution_count": 18,
   "id": "532495b3-56a5-428b-a0c3-c968f83ec404",
   "metadata": {},
   "outputs": [
    {
     "name": "stdout",
     "output_type": "stream",
     "text": [
      "[(0, -4), (0, 4), (15, -1), (15, 1)]\n"
     ]
    }
   ],
   "source": [
    "eq17= sp.Eq(x*y**2 - x, 0)\n",
    "eq18= sp.Eq(x + y**2, 16)\n",
    "\n",
    "result8= solve([eq17, eq18], [x, y])\n",
    "print(result8)"
   ]
  },
  {
   "cell_type": "markdown",
   "id": "aa1f1418-dcef-4b85-ab43-d77a51209a30",
   "metadata": {},
   "source": [
    "oppgave 1b:"
   ]
  },
  {
   "cell_type": "code",
   "execution_count": 20,
   "id": "e1580d30-6959-40c9-9b43-5e2dc86787db",
   "metadata": {},
   "outputs": [
    {
     "name": "stdout",
     "output_type": "stream",
     "text": [
      "[(-10, 0), (-6, -8), (-6, 8), (6, -8), (6, 8), (10, 0)]\n"
     ]
    }
   ],
   "source": [
    "eq17= sp.Eq(x**2 + y**2, 100)\n",
    "eq18= sp.Eq(x**2*y-36*y, 0)\n",
    "\n",
    "result9= solve([eq17, eq18], [x, y])\n",
    "print(result9)"
   ]
  },
  {
   "cell_type": "markdown",
   "id": "1eb1c165-9680-4e3f-a211-97ca2eb516ad",
   "metadata": {},
   "source": [
    "oppgave 2a:"
   ]
  },
  {
   "cell_type": "code",
   "execution_count": 24,
   "id": "c33f6097-e688-44dd-8684-de733fc762a6",
   "metadata": {},
   "outputs": [
    {
     "name": "stdout",
     "output_type": "stream",
     "text": [
      "[(-3, -7), (-3, 7), (0, -sqrt(58)), (0, sqrt(58)), (3, -7), (3, 7)]\n"
     ]
    }
   ],
   "source": [
    "eq19= sp.Eq(x*y**2 - 49*x, 0)\n",
    "eq20= sp.Eq(x**2 + y**2,  58)\n",
    "\n",
    "result10= solve([eq19, eq20], [x, y])\n",
    "print(result10)"
   ]
  },
  {
   "cell_type": "markdown",
   "id": "12adacd2-adf7-4760-a14c-ba0eb7e6424e",
   "metadata": {},
   "source": [
    "oppgave 2b:"
   ]
  },
  {
   "cell_type": "code",
   "execution_count": 27,
   "id": "3d1d1b0b-64f2-478a-932f-df3300422c1f",
   "metadata": {},
   "outputs": [
    {
     "name": "stdout",
     "output_type": "stream",
     "text": [
      "[(-1.11803398874989, 0.0), (-0.500000000000000, -1.00000000000000), (-0.500000000000000, 1.00000000000000), (1.11803398874989, 0.0)]\n"
     ]
    }
   ],
   "source": [
    "eq21= sp.Eq(x**2 + y**2, 5/4)\n",
    "eq22= sp.Eq(2*x*y + y, 0)\n",
    "\n",
    "result11= solve([eq21, eq22], [x, y])\n",
    "print(result11)"
   ]
  },
  {
   "cell_type": "markdown",
   "id": "4994b25f-6c01-41d2-88f5-2bf08cbb1a32",
   "metadata": {},
   "source": [
    "# Modul 19"
   ]
  },
  {
   "cell_type": "markdown",
   "id": "6ff00cb8-a88f-4944-9644-f7d37b3ef7ce",
   "metadata": {},
   "source": [
    "oppgave 1a:"
   ]
  },
  {
   "cell_type": "code",
   "execution_count": 3,
   "id": "8ab77874-68bb-456d-9fd7-3033215b555f",
   "metadata": {},
   "outputs": [
    {
     "data": {
      "text/latex": [
       "$\\displaystyle 5 x^{4}$"
      ],
      "text/plain": [
       "5*x**4"
      ]
     },
     "execution_count": 3,
     "metadata": {},
     "output_type": "execute_result"
    }
   ],
   "source": [
    "eq23= sp.diff(x**5)\n",
    "eq23"
   ]
  },
  {
   "cell_type": "markdown",
   "id": "9c17ee96-95fc-4f49-ab98-0bcbcd49282f",
   "metadata": {},
   "source": [
    "oppgave 1b:"
   ]
  },
  {
   "cell_type": "code",
   "execution_count": 30,
   "id": "745e4bbb-8037-487d-bf60-baa6be9a4b31",
   "metadata": {},
   "outputs": [
    {
     "data": {
      "text/latex": [
       "$\\displaystyle 1$"
      ],
      "text/plain": [
       "1"
      ]
     },
     "execution_count": 30,
     "metadata": {},
     "output_type": "execute_result"
    }
   ],
   "source": [
    "eq24= sp.diff(x+12)\n",
    "eq24"
   ]
  },
  {
   "cell_type": "markdown",
   "id": "02653e4c-509b-4ebd-8d15-d2dbc97a9e8a",
   "metadata": {},
   "source": [
    "oppgave 1c"
   ]
  },
  {
   "cell_type": "code",
   "execution_count": 31,
   "id": "429d1e06-fc19-4357-a515-4d80311e4f65",
   "metadata": {},
   "outputs": [
    {
     "data": {
      "text/latex": [
       "$\\displaystyle 3 x^{2} + 8 x$"
      ],
      "text/plain": [
       "3*x**2 + 8*x"
      ]
     },
     "execution_count": 31,
     "metadata": {},
     "output_type": "execute_result"
    }
   ],
   "source": [
    "eq25= sp.diff(x**3 + 4*x**2)\n",
    "eq25"
   ]
  },
  {
   "cell_type": "markdown",
   "id": "e43eedc3-0c43-4357-9d01-7a20879cb249",
   "metadata": {},
   "source": [
    "oppgave 1d"
   ]
  },
  {
   "cell_type": "code",
   "execution_count": 33,
   "id": "6e6ef023-d410-45c2-bc55-363f449929da",
   "metadata": {},
   "outputs": [
    {
     "data": {
      "text/latex": [
       "$\\displaystyle 6 x^{2}$"
      ],
      "text/plain": [
       "6*x**2"
      ]
     },
     "execution_count": 33,
     "metadata": {},
     "output_type": "execute_result"
    }
   ],
   "source": [
    "eq26= sp.diff(2*x**3 + sp.sqrt(36))\n",
    "eq26"
   ]
  },
  {
   "cell_type": "markdown",
   "id": "3528bcaf-2d26-4583-b78f-35abbdb396d8",
   "metadata": {},
   "source": [
    "oppgave 1e"
   ]
  },
  {
   "cell_type": "code",
   "execution_count": 34,
   "id": "2b16627e-bc7e-453a-a39f-1f33435a410a",
   "metadata": {},
   "outputs": [
    {
     "data": {
      "text/latex": [
       "$\\displaystyle \\frac{1}{2 \\sqrt{x}}$"
      ],
      "text/plain": [
       "1/(2*sqrt(x))"
      ]
     },
     "execution_count": 34,
     "metadata": {},
     "output_type": "execute_result"
    }
   ],
   "source": [
    "eq27= sp.diff(sp.sqrt(x)+ 5**2)\n",
    "eq27"
   ]
  },
  {
   "cell_type": "markdown",
   "id": "1d1f967f-b93d-42f2-ad4d-1e7fc035e202",
   "metadata": {},
   "source": [
    "oppgave 1f"
   ]
  },
  {
   "cell_type": "code",
   "execution_count": 35,
   "id": "4750816c-9611-4cd4-8130-2b5ce9f98fe8",
   "metadata": {},
   "outputs": [
    {
     "data": {
      "text/latex": [
       "$\\displaystyle 3 x^{2} - \\frac{1}{x^{2}}$"
      ],
      "text/plain": [
       "3*x**2 - 1/x**2"
      ]
     },
     "execution_count": 35,
     "metadata": {},
     "output_type": "execute_result"
    }
   ],
   "source": [
    "eq28= sp.diff(x**3 + 1/x)\n",
    "eq28"
   ]
  },
  {
   "cell_type": "markdown",
   "id": "33bca23e-9454-4792-9f6e-78d832905322",
   "metadata": {},
   "source": [
    "oppgave 1g"
   ]
  },
  {
   "cell_type": "code",
   "execution_count": 36,
   "id": "1da460ba-6e30-42a4-affb-bf2cd1105571",
   "metadata": {},
   "outputs": [
    {
     "data": {
      "text/latex": [
       "$\\displaystyle 3 x^{2} - 2 x + 0.25$"
      ],
      "text/plain": [
       "3*x**2 - 2*x + 0.25"
      ]
     },
     "execution_count": 36,
     "metadata": {},
     "output_type": "execute_result"
    }
   ],
   "source": [
    "eq29= sp.diff(x**3 - x**2 + (1/4)*x)\n",
    "eq29"
   ]
  },
  {
   "cell_type": "markdown",
   "id": "903a5eb8-071b-4988-8ed7-681cfd0bfb3e",
   "metadata": {},
   "source": [
    "\n",
    "Oppgave 2a"
   ]
  },
  {
   "cell_type": "code",
   "execution_count": 37,
   "id": "e6b1b3d4-fbb0-4d52-b132-f45c3b74faf3",
   "metadata": {},
   "outputs": [
    {
     "data": {
      "text/latex": [
       "$\\displaystyle 36 x^{5} - \\frac{1}{x^{2}}$"
      ],
      "text/plain": [
       "36*x**5 - 1/x**2"
      ]
     },
     "execution_count": 37,
     "metadata": {},
     "output_type": "execute_result"
    }
   ],
   "source": [
    "eq30= sp.diff(1/x + 6*x**6)\n",
    "eq30"
   ]
  },
  {
   "cell_type": "markdown",
   "id": "17086b5c-e7bb-4be2-a7cc-bbcaee0ec7e0",
   "metadata": {},
   "source": [
    "oppgave 2b"
   ]
  },
  {
   "cell_type": "code",
   "execution_count": 38,
   "id": "3724bbca-ba42-43cf-90f1-629aeedd5246",
   "metadata": {},
   "outputs": [
    {
     "data": {
      "text/latex": [
       "$\\displaystyle 1.5 x^{2} - 1$"
      ],
      "text/plain": [
       "1.5*x**2 - 1"
      ]
     },
     "execution_count": 38,
     "metadata": {},
     "output_type": "execute_result"
    }
   ],
   "source": [
    "eq31= sp.diff(-x + (1/2)*x**3)\n",
    "eq31"
   ]
  },
  {
   "cell_type": "markdown",
   "id": "f8b9bb40-a56b-4acc-80da-e3998a2544bd",
   "metadata": {},
   "source": [
    "oppgave 2c"
   ]
  },
  {
   "cell_type": "code",
   "execution_count": 40,
   "id": "69dd1d23-f316-4cfd-8878-a1c88f5f5f99",
   "metadata": {},
   "outputs": [
    {
     "data": {
      "text/latex": [
       "$\\displaystyle 3 x^{2} + 4 x - 3$"
      ],
      "text/plain": [
       "3*x**2 + 4*x - 3"
      ]
     },
     "execution_count": 40,
     "metadata": {},
     "output_type": "execute_result"
    }
   ],
   "source": [
    "eq32= sp.diff(x*(x**2 + 2*x - 3))\n",
    "sp.simplify(eq32)"
   ]
  },
  {
   "cell_type": "markdown",
   "id": "34f69084-dfca-432d-a9a7-7d2f690cb86a",
   "metadata": {},
   "source": [
    "## Modul 20"
   ]
  },
  {
   "cell_type": "markdown",
   "id": "6f5f82e4-1a63-4ca9-8b61-7e1d2561d256",
   "metadata": {},
   "source": [
    "oppgave 1e"
   ]
  },
  {
   "cell_type": "code",
   "execution_count": 50,
   "id": "1d0f3d5d-dfb1-403b-8dea-479eb4ae7b56",
   "metadata": {},
   "outputs": [
    {
     "data": {
      "text/latex": [
       "$\\displaystyle 9 x^{8}$"
      ],
      "text/plain": [
       "9*x**8"
      ]
     },
     "execution_count": 50,
     "metadata": {},
     "output_type": "execute_result"
    }
   ],
   "source": [
    "eq33= sp.diff(x**4 * x**5)\n",
    "eq33"
   ]
  },
  {
   "cell_type": "markdown",
   "id": "f2b5f925-836d-4f3b-90bd-c795b7432ed3",
   "metadata": {},
   "source": [
    "Oppgave 1f"
   ]
  },
  {
   "cell_type": "code",
   "execution_count": 4,
   "id": "35e28a95-5ceb-43a3-a7d1-ea82c412c4ad",
   "metadata": {},
   "outputs": [
    {
     "data": {
      "text/latex": [
       "$\\displaystyle \\frac{3 \\sqrt{x}}{2}$"
      ],
      "text/plain": [
       "3*sqrt(x)/2"
      ]
     },
     "metadata": {},
     "output_type": "display_data"
    }
   ],
   "source": [
    "display(sp.diff(x * sp.sqrt(x)))"
   ]
  },
  {
   "cell_type": "markdown",
   "id": "819753b1-eaae-456f-a51f-77d9f976e7da",
   "metadata": {},
   "source": [
    "oppgave 1g"
   ]
  },
  {
   "cell_type": "code",
   "execution_count": 7,
   "id": "c180233e-10f9-4542-93a3-b1492b80bebe",
   "metadata": {},
   "outputs": [
    {
     "data": {
      "text/latex": [
       "$\\displaystyle - \\frac{6}{x^{4}}$"
      ],
      "text/plain": [
       "-6/x**4"
      ]
     },
     "execution_count": 7,
     "metadata": {},
     "output_type": "execute_result"
    }
   ],
   "source": [
    "eq34 = sp.diff(2/(x**3))\n",
    "eq34"
   ]
  },
  {
   "cell_type": "markdown",
   "id": "83ada658-c903-44c1-8dc1-68322356645f",
   "metadata": {},
   "source": [
    "oppgave h"
   ]
  },
  {
   "cell_type": "code",
   "execution_count": 10,
   "id": "3d68c5f4-7317-45d6-97e9-f76c48ea3e19",
   "metadata": {},
   "outputs": [
    {
     "data": {
      "text/latex": [
       "$\\displaystyle \\frac{6 - x^{2}}{x^{4}}$"
      ],
      "text/plain": [
       "(6 - x**2)/x**4"
      ]
     },
     "execution_count": 10,
     "metadata": {},
     "output_type": "execute_result"
    }
   ],
   "source": [
    "eq35=sp.diff(((x**2)-2)/x**3)\n",
    "sp.simplify(eq35)"
   ]
  },
  {
   "cell_type": "markdown",
   "id": "8edf9b3c-4785-4017-8bb1-c4e1042c1f6a",
   "metadata": {},
   "source": [
    "oppgave i"
   ]
  },
  {
   "cell_type": "code",
   "execution_count": 14,
   "id": "dbd95f33-de81-4af9-a9ba-a0a1baae8950",
   "metadata": {},
   "outputs": [
    {
     "data": {
      "text/latex": [
       "$\\displaystyle \\frac{13 x^{\\frac{11}{2}}}{2}$"
      ],
      "text/plain": [
       "13*x**(11/2)/2"
      ]
     },
     "execution_count": 14,
     "metadata": {},
     "output_type": "execute_result"
    }
   ],
   "source": [
    "eq36= sp.diff(sp.sqrt(x) * x**6)\n",
    "sp.simplify(eq36)"
   ]
  },
  {
   "cell_type": "markdown",
   "id": "83e54975-3911-4a7b-9df1-1fe504d7cd9f",
   "metadata": {},
   "source": [
    "oppgave j"
   ]
  },
  {
   "cell_type": "code",
   "execution_count": 16,
   "id": "5d349557-d043-4493-94ad-1fedd1a4c017",
   "metadata": {},
   "outputs": [
    {
     "data": {
      "text/latex": [
       "$\\displaystyle 3 x^{2} + 1$"
      ],
      "text/plain": [
       "3*x**2 + 1"
      ]
     },
     "execution_count": 16,
     "metadata": {},
     "output_type": "execute_result"
    }
   ],
   "source": [
    "eq37=sp.diff(x * ((x**2)+1))\n",
    "eq37"
   ]
  },
  {
   "cell_type": "markdown",
   "id": "ede948e4-f444-40d5-b4d3-8113ba0d47fe",
   "metadata": {},
   "source": [
    "oppgave k"
   ]
  },
  {
   "cell_type": "code",
   "execution_count": 20,
   "id": "572c8467-6121-4f0a-86ac-4d911d147c6a",
   "metadata": {},
   "outputs": [
    {
     "data": {
      "text/latex": [
       "$\\displaystyle - \\frac{x \\left(x^{3} + 12 x + 2\\right)}{x^{6} - 2 x^{3} + 1}$"
      ],
      "text/plain": [
       "-x*(x**3 + 12*x + 2)/(x**6 - 2*x**3 + 1)"
      ]
     },
     "execution_count": 20,
     "metadata": {},
     "output_type": "execute_result"
    }
   ],
   "source": [
    "eq38=sp.diff((x**2 + 4)/(x**3-1))\n",
    "sp.simplify(eq38)"
   ]
  },
  {
   "cell_type": "markdown",
   "id": "4f9624e7-b109-4baf-8510-814e4786906a",
   "metadata": {},
   "source": [
    "oppgave l"
   ]
  },
  {
   "cell_type": "code",
   "execution_count": 25,
   "id": "5caaff0d-19d4-40c2-9572-2339f4625528",
   "metadata": {},
   "outputs": [
    {
     "data": {
      "text/latex": [
       "$\\displaystyle \\frac{2}{\\left(x + 2\\right)^{2}}$"
      ],
      "text/plain": [
       "2/(x + 2)**2"
      ]
     },
     "execution_count": 25,
     "metadata": {},
     "output_type": "execute_result"
    }
   ],
   "source": [
    "eq39= sp.diff((x**2)/((x**2)+2*x))\n",
    "sp.simplify(eq39)"
   ]
  },
  {
   "cell_type": "markdown",
   "id": "cfcff9bd-a6d4-4de3-be1a-520940705456",
   "metadata": {},
   "source": [
    "oppgave m"
   ]
  },
  {
   "cell_type": "code",
   "execution_count": 27,
   "id": "9e90daa0-85c2-4dfc-9022-8631db50a5b0",
   "metadata": {},
   "outputs": [
    {
     "data": {
      "text/latex": [
       "$\\displaystyle \\frac{x^{2} - 4 x - 10}{x^{2} - 4 x + 4}$"
      ],
      "text/plain": [
       "(x**2 - 4*x - 10)/(x**2 - 4*x + 4)"
      ]
     },
     "execution_count": 27,
     "metadata": {},
     "output_type": "execute_result"
    }
   ],
   "source": [
    "eq40=sp.diff(((x**2) + 4 * x + 2) / (x-2))\n",
    "sp.simplify(eq40)"
   ]
  },
  {
   "cell_type": "markdown",
   "id": "e51f8283-43e5-4a95-80b3-b2d70c8ffd13",
   "metadata": {},
   "source": [
    "\n",
    "\n",
    "Oppgave 2a"
   ]
  },
  {
   "cell_type": "code",
   "execution_count": 30,
   "id": "05b94e2f-74cb-4fcc-a4b7-7f8fffdf7028",
   "metadata": {},
   "outputs": [
    {
     "data": {
      "text/latex": [
       "$\\displaystyle \\frac{x^{4} - x^{2} + 2}{x^{4} - 2 x^{2} + 1}$"
      ],
      "text/plain": [
       "(x**4 - x**2 + 2)/(x**4 - 2*x**2 + 1)"
      ]
     },
     "execution_count": 30,
     "metadata": {},
     "output_type": "execute_result"
    }
   ],
   "source": [
    "eq41 = sp.diff(((x**3)-2*x)/((x**2)-1))\n",
    "sp.simplify(eq41)"
   ]
  },
  {
   "cell_type": "markdown",
   "id": "cb99cbe8-2cc5-4862-9126-5de2a552cad3",
   "metadata": {},
   "source": [
    "oppgave 2b"
   ]
  },
  {
   "cell_type": "code",
   "execution_count": 32,
   "id": "536654af-aa35-48fc-916d-9689836a513b",
   "metadata": {},
   "outputs": [
    {
     "data": {
      "text/latex": [
       "$\\displaystyle 4 x^{3}$"
      ],
      "text/plain": [
       "4*x**3"
      ]
     },
     "execution_count": 32,
     "metadata": {},
     "output_type": "execute_result"
    }
   ],
   "source": [
    "eq42=sp.diff(((x**2)+1)*((x**2)-1))\n",
    "sp.simplify(eq42)"
   ]
  },
  {
   "cell_type": "markdown",
   "id": "b7b30618-6dac-45cb-9425-060d3bd6a26c",
   "metadata": {},
   "source": [
    "oppgave 2c"
   ]
  },
  {
   "cell_type": "code",
   "execution_count": 2,
   "id": "692a4a04-b906-4be1-a0f4-a7d5a69356af",
   "metadata": {},
   "outputs": [
    {
     "data": {
      "text/latex": [
       "$\\displaystyle \\frac{3 \\left(- 2 x^{3} + 4 x^{2} + 7\\right)}{x^{6} + 14 x^{3} + 49}$"
      ],
      "text/plain": [
       "3*(-2*x**3 + 4*x**2 + 7)/(x**6 + 14*x**3 + 49)"
      ]
     },
     "execution_count": 2,
     "metadata": {},
     "output_type": "execute_result"
    }
   ],
   "source": [
    "eq43=sp.diff((3*x - 4)/((x**3)+7))\n",
    "sp.simplify(eq43)"
   ]
  },
  {
   "cell_type": "markdown",
   "id": "a9e43c7c-229f-481c-b7b9-c97e224b42d1",
   "metadata": {},
   "source": [
    "## Modul 21"
   ]
  },
  {
   "cell_type": "markdown",
   "id": "295ec513-8ce2-4a74-8c6e-66c3519c306b",
   "metadata": {},
   "source": [
    "oppgave 1a"
   ]
  },
  {
   "cell_type": "code",
   "execution_count": 16,
   "id": "12ee6c1b-b4ed-48c2-a267-d8fa2d23c77c",
   "metadata": {},
   "outputs": [
    {
     "data": {
      "text/latex": [
       "$\\displaystyle \\left(15 x^{2} + 30\\right) \\left(x^{3} + 6 x\\right)^{4}$"
      ],
      "text/plain": [
       "(15*x**2 + 30)*(x**3 + 6*x)**4"
      ]
     },
     "execution_count": 16,
     "metadata": {},
     "output_type": "execute_result"
    }
   ],
   "source": [
    "eq44=sp.diff(((x**3)+6*x)**5)\n",
    "eq44"
   ]
  },
  {
   "cell_type": "markdown",
   "id": "0668e389-dbbc-4b0d-9030-0f2a97de18b6",
   "metadata": {},
   "source": [
    "oppgave 1b"
   ]
  },
  {
   "cell_type": "code",
   "execution_count": 17,
   "id": "4cfb3baa-1365-45a0-a511-ec7a07eed029",
   "metadata": {},
   "outputs": [
    {
     "data": {
      "text/latex": [
       "$\\displaystyle \\frac{2 x}{\\sqrt{2 x^{2} + 5}}$"
      ],
      "text/plain": [
       "2*x/sqrt(2*x**2 + 5)"
      ]
     },
     "execution_count": 17,
     "metadata": {},
     "output_type": "execute_result"
    }
   ],
   "source": [
    "eq45= sp.diff(sp.sqrt(2*(x**2)+5))\n",
    "eq45"
   ]
  },
  {
   "cell_type": "markdown",
   "id": "6c2363f3-8890-49a0-aeb7-64c551bfd55d",
   "metadata": {},
   "source": [
    "oppgave 1c"
   ]
  },
  {
   "cell_type": "code",
   "execution_count": 23,
   "id": "47a3079e-9e71-40d2-a2d6-eb49dce884b7",
   "metadata": {},
   "outputs": [
    {
     "data": {
      "text/latex": [
       "$\\displaystyle \\frac{64 x^{3} \\left(3 - x^{2}\\right)}{\\left(x^{2} + 3\\right)^{5}}$"
      ],
      "text/plain": [
       "64*x**3*(3 - x**2)/(x**2 + 3)**5"
      ]
     },
     "execution_count": 23,
     "metadata": {},
     "output_type": "execute_result"
    }
   ],
   "source": [
    "eq46= sp.diff((((2*x)/((x**2)+3)))**4)\n",
    "sp.simplify(eq46)"
   ]
  },
  {
   "cell_type": "markdown",
   "id": "024ecb8a-7b34-49c7-85d8-95364babf9af",
   "metadata": {},
   "source": [
    "oppgave 1d"
   ]
  },
  {
   "cell_type": "code",
   "execution_count": 25,
   "id": "e8d667d9-4b0f-44d9-9be0-6ed045578936",
   "metadata": {},
   "outputs": [
    {
     "data": {
      "text/latex": [
       "$\\displaystyle 12.0 x^{3} \\left(2 x^{4} + 9\\right)^{0.5}$"
      ],
      "text/plain": [
       "12.0*x**3*(2*x**4 + 9)**0.5"
      ]
     },
     "execution_count": 25,
     "metadata": {},
     "output_type": "execute_result"
    }
   ],
   "source": [
    "eq47= sp.diff((2*(x**4)+ 9)**(3/2))\n",
    "sp.simplify(eq47)"
   ]
  },
  {
   "cell_type": "markdown",
   "id": "d44fb760-81bd-4af4-9c06-cdaffe5386bd",
   "metadata": {},
   "source": [
    "oppgave 1e"
   ]
  },
  {
   "cell_type": "code",
   "execution_count": 28,
   "id": "e7143ddd-1121-4d17-a5fd-5cffce895123",
   "metadata": {},
   "outputs": [
    {
     "data": {
      "text/latex": [
       "$\\displaystyle - \\frac{x}{\\left(x^{2} + 1\\right)^{\\frac{3}{2}}}$"
      ],
      "text/plain": [
       "-x/(x**2 + 1)**(3/2)"
      ]
     },
     "execution_count": 28,
     "metadata": {},
     "output_type": "execute_result"
    }
   ],
   "source": [
    "eq48= sp.diff(1 / (sp.sqrt(1+(x**2))))\n",
    "sp.simplify(eq48)"
   ]
  },
  {
   "cell_type": "markdown",
   "id": "d08737f8-c181-4b55-baed-91f6cd92ecc7",
   "metadata": {},
   "source": [
    "oppgave 1f"
   ]
  },
  {
   "cell_type": "code",
   "execution_count": 29,
   "id": "18257cc8-4cb4-4c4d-8c37-fc4fa259ad62",
   "metadata": {},
   "outputs": [
    {
     "data": {
      "text/latex": [
       "$\\displaystyle x^{4} \\left(x + 2\\right)^{2} \\left(8 x + 10\\right)$"
      ],
      "text/plain": [
       "x**4*(x + 2)**2*(8*x + 10)"
      ]
     },
     "execution_count": 29,
     "metadata": {},
     "output_type": "execute_result"
    }
   ],
   "source": [
    "eq49= sp.diff((x**2) * (((x**2)+2*x)**3))\n",
    "sp.simplify(eq49)"
   ]
  },
  {
   "cell_type": "markdown",
   "id": "3ffebc30-2d77-40fa-9dee-1e772ef9c420",
   "metadata": {},
   "source": [
    "oppgave 1g"
   ]
  },
  {
   "cell_type": "code",
   "execution_count": 30,
   "id": "9c01eb7b-cb2f-4254-8583-8d3c09ed4529",
   "metadata": {},
   "outputs": [
    {
     "data": {
      "text/latex": [
       "$\\displaystyle \\frac{x^{2} \\left(3 x - 5\\right)}{\\sqrt{x \\left(x - 2\\right)}}$"
      ],
      "text/plain": [
       "x**2*(3*x - 5)/sqrt(x*(x - 2))"
      ]
     },
     "execution_count": 30,
     "metadata": {},
     "output_type": "execute_result"
    }
   ],
   "source": [
    "eq50= sp.diff((x**2)* (sp.sqrt((x**2)-2*x)))\n",
    "sp.simplify(eq50)"
   ]
  },
  {
   "cell_type": "markdown",
   "id": "94f077e3-516b-41b9-906b-dc04395ef309",
   "metadata": {},
   "source": [
    "oppgave 1h"
   ]
  },
  {
   "cell_type": "code",
   "execution_count": 31,
   "id": "f8080c62-cbb8-444b-bc19-57356bbf3176",
   "metadata": {},
   "outputs": [
    {
     "data": {
      "text/latex": [
       "$\\displaystyle - \\frac{4 x + 1}{x^{2} \\left(x + 1\\right)^{4}}$"
      ],
      "text/plain": [
       "-(4*x + 1)/(x**2*(x + 1)**4)"
      ]
     },
     "execution_count": 31,
     "metadata": {},
     "output_type": "execute_result"
    }
   ],
   "source": [
    "eq51= sp.diff((x**2)/(((x**2)+x)**3))\n",
    "sp.simplify(eq51)"
   ]
  },
  {
   "cell_type": "markdown",
   "id": "c7a954dd-d3f0-44ed-90d3-ab91d9906a93",
   "metadata": {},
   "source": [
    "oppgave 1i"
   ]
  },
  {
   "cell_type": "code",
   "execution_count": 33,
   "id": "c5e317f3-0054-4488-9445-ba989f438776",
   "metadata": {},
   "outputs": [
    {
     "data": {
      "text/latex": [
       "$\\displaystyle x \\left(x^{2} + 1\\right) \\left(x^{3} + 1\\right)^{2} \\left(4 x^{3} + 9 x \\left(x^{2} + 1\\right) + 4\\right)$"
      ],
      "text/plain": [
       "x*(x**2 + 1)*(x**3 + 1)**2*(4*x**3 + 9*x*(x**2 + 1) + 4)"
      ]
     },
     "execution_count": 33,
     "metadata": {},
     "output_type": "execute_result"
    }
   ],
   "source": [
    "eq52= sp.diff((((x**2)+1)**2)* (((x**3)+1)**3))\n",
    "sp.simplify(eq52)"
   ]
  },
  {
   "cell_type": "markdown",
   "id": "bceba90a-bd60-4ff2-9485-c40513d30cba",
   "metadata": {},
   "source": [
    "Oppgave 2a"
   ]
  },
  {
   "cell_type": "code",
   "execution_count": 10,
   "id": "4fcba046-07f0-4477-b20d-aaa74eae66fa",
   "metadata": {},
   "outputs": [
    {
     "data": {
      "text/latex": [
       "$\\displaystyle \\frac{\\left(24 x + 8\\right) \\sqrt{\\left(3 x^{2} + 2 x\\right)^{4}}}{2 \\left(3 x^{2} + 2 x\\right)}$"
      ],
      "text/plain": [
       "(24*x + 8)*sqrt((3*x**2 + 2*x)**4)/(2*(3*x**2 + 2*x))"
      ]
     },
     "execution_count": 10,
     "metadata": {},
     "output_type": "execute_result"
    }
   ],
   "source": [
    "eq53= sp.diff(sp.sqrt(((3*(x**2))+(2*x))**4))\n",
    "eq53\n"
   ]
  },
  {
   "cell_type": "markdown",
   "id": "b47542f3-518c-4a2e-b10a-ca51b114e04e",
   "metadata": {},
   "source": [
    "oppgave 2b"
   ]
  },
  {
   "cell_type": "code",
   "execution_count": 39,
   "id": "21dfaaf5-898f-4cad-8ab3-59d94ceccd51",
   "metadata": {},
   "outputs": [
    {
     "data": {
      "text/latex": [
       "$\\displaystyle x \\left(x^{2} + 3\\right)^{3} \\left(x^{3} + 3\\right)^{4} \\left(8 x^{3} + 15 x \\left(x^{2} + 3\\right) + 24\\right)$"
      ],
      "text/plain": [
       "x*(x**2 + 3)**3*(x**3 + 3)**4*(8*x**3 + 15*x*(x**2 + 3) + 24)"
      ]
     },
     "execution_count": 39,
     "metadata": {},
     "output_type": "execute_result"
    }
   ],
   "source": [
    "eq54= sp.diff((((x**3)+3)**5) * (((x**2)+3)**4))\n",
    "sp.simplify(eq54)"
   ]
  },
  {
   "cell_type": "markdown",
   "id": "05051e36-9aa3-4169-9992-661186edcdb4",
   "metadata": {},
   "source": [
    "oppgave 2c"
   ]
  },
  {
   "cell_type": "code",
   "execution_count": 43,
   "id": "f91f89e0-90cc-428d-a782-c5b855cdf150",
   "metadata": {},
   "outputs": [
    {
     "data": {
      "text/latex": [
       "$\\displaystyle \\frac{x \\left(3 x^{2} + 2\\right)}{\\sqrt{x^{2} + 1}}$"
      ],
      "text/plain": [
       "x*(3*x**2 + 2)/sqrt(x**2 + 1)"
      ]
     },
     "execution_count": 43,
     "metadata": {},
     "output_type": "execute_result"
    }
   ],
   "source": [
    "eq55= sp.diff((sp.sqrt((x**2)+1))*(x**2))\n",
    "sp.simplify(eq55)"
   ]
  },
  {
   "cell_type": "markdown",
   "id": "d5cc6a08-cf67-4dc6-9ac2-f3d2872094f6",
   "metadata": {},
   "source": [
    "oppgave 2d"
   ]
  },
  {
   "cell_type": "code",
   "execution_count": 13,
   "id": "f21c73e2-fdb1-47f5-a098-589e08d3d363",
   "metadata": {},
   "outputs": [
    {
     "data": {
      "text/latex": [
       "$\\displaystyle \\frac{162 x^{5} + 2}{x^{2}} - \\frac{2 \\left(27 x^{6} + 2 x\\right)}{x^{3}}$"
      ],
      "text/plain": [
       "(162*x**5 + 2)/x**2 - 2*(27*x**6 + 2*x)/x**3"
      ]
     },
     "execution_count": 13,
     "metadata": {},
     "output_type": "execute_result"
    }
   ],
   "source": [
    "eq56= sp.diff(((2*x + ((3*(x**2))**3))/(x**2)))\n",
    "eq56"
   ]
  },
  {
   "cell_type": "markdown",
   "id": "e691e1d7-da2d-45a5-8293-5330f8b4662d",
   "metadata": {},
   "source": [
    "oppgave 2e"
   ]
  },
  {
   "cell_type": "code",
   "execution_count": 12,
   "id": "ece4b462-9324-46c5-b3d7-71634bc39f49",
   "metadata": {},
   "outputs": [
    {
     "data": {
      "text/latex": [
       "$\\displaystyle \\frac{1.33333333333333 x^{3}}{\\left(x^{4} - 5\\right)^{0.666666666666667}}$"
      ],
      "text/plain": [
       "1.33333333333333*x**3*(x**4 - 5)**(-0.666666666666667)"
      ]
     },
     "execution_count": 12,
     "metadata": {},
     "output_type": "execute_result"
    }
   ],
   "source": [
    "eq57= sp.diff(((x**4)-5)**(1/3))\n",
    "eq57"
   ]
  },
  {
   "cell_type": "markdown",
   "id": "b9054c6d-e0e5-44b4-9ba1-3f94a2c768a8",
   "metadata": {},
   "source": [
    "oppgave 2f"
   ]
  },
  {
   "cell_type": "code",
   "execution_count": 7,
   "id": "8a8e6e34-3c93-48d0-8f92-2e49ced17831",
   "metadata": {},
   "outputs": [
    {
     "data": {
      "text/latex": [
       "$\\displaystyle \\frac{x^{2} \\left(x^{4} - 3\\right)}{\\left(x^{4} - 1\\right)^{\\frac{3}{2}}}$"
      ],
      "text/plain": [
       "x**2*(x**4 - 3)/(x**4 - 1)**(3/2)"
      ]
     },
     "execution_count": 7,
     "metadata": {},
     "output_type": "execute_result"
    }
   ],
   "source": [
    "eq58= sp.diff((x**3)/(sp.sqrt((x**4)-1)))\n",
    "sp.simplify(eq58)"
   ]
  },
  {
   "cell_type": "markdown",
   "id": "237ab10f-f923-4126-8ba2-69fcaf13e555",
   "metadata": {},
   "source": [
    "## Modul 22"
   ]
  },
  {
   "cell_type": "markdown",
   "id": "72047c4f-4399-4afa-b466-b3293748aeaa",
   "metadata": {},
   "source": [
    "oppgave 1a"
   ]
  },
  {
   "cell_type": "code",
   "execution_count": 20,
   "id": "c071757b-48eb-4478-ad29-b656d289cf21",
   "metadata": {},
   "outputs": [
    {
     "data": {
      "text/latex": [
       "$\\displaystyle \\frac{1}{x}$"
      ],
      "text/plain": [
       "1/x"
      ]
     },
     "execution_count": 20,
     "metadata": {},
     "output_type": "execute_result"
    }
   ],
   "source": [
    "eq59= sp.diff(sp.ln(5*x))\n",
    "sp.simplify(eq59)"
   ]
  },
  {
   "cell_type": "markdown",
   "id": "6dc9f4eb-0270-40bf-a809-a2451c47c2d7",
   "metadata": {},
   "source": [
    "oppgave 1b"
   ]
  },
  {
   "cell_type": "code",
   "execution_count": 24,
   "id": "da1998d2-cca1-473b-a506-ffdc7a561566",
   "metadata": {},
   "outputs": [
    {
     "data": {
      "text/latex": [
       "$\\displaystyle - 2 e^{- 2 x}$"
      ],
      "text/plain": [
       "-2*exp(-2*x)"
      ]
     },
     "execution_count": 24,
     "metadata": {},
     "output_type": "execute_result"
    }
   ],
   "source": [
    "eq60 = sp.diff(sp.exp(-2*x))\n",
    "eq60"
   ]
  },
  {
   "cell_type": "markdown",
   "id": "fdc28058-d29b-49af-a9ee-b0d1fccd80f6",
   "metadata": {},
   "source": [
    "oppgave 1c"
   ]
  },
  {
   "cell_type": "code",
   "execution_count": 25,
   "id": "d22e492a-3ca9-442b-b056-d212a60d3b42",
   "metadata": {},
   "outputs": [
    {
     "data": {
      "text/latex": [
       "$\\displaystyle \\frac{1}{x}$"
      ],
      "text/plain": [
       "1/x"
      ]
     },
     "execution_count": 25,
     "metadata": {},
     "output_type": "execute_result"
    }
   ],
   "source": [
    "eq61= sp.diff(sp.ln(12*x)-3)\n",
    "eq61"
   ]
  },
  {
   "cell_type": "markdown",
   "id": "5c553c7c-839e-4ab1-a4f2-684f206d56c7",
   "metadata": {},
   "source": [
    "oppgave 1d"
   ]
  },
  {
   "cell_type": "code",
   "execution_count": 29,
   "id": "296daad9-453a-4a26-963c-e94d2cafe8a8",
   "metadata": {},
   "outputs": [
    {
     "data": {
      "text/latex": [
       "$\\displaystyle \\log{\\left(2 \\right)}$"
      ],
      "text/plain": [
       "log(2)"
      ]
     },
     "execution_count": 29,
     "metadata": {},
     "output_type": "execute_result"
    }
   ],
   "source": [
    "eq62 = sp.diff(sp.ln(2**x))\n",
    "eq62"
   ]
  },
  {
   "cell_type": "markdown",
   "id": "3f19259f-3ef3-45c9-97e3-2f4603aebbbb",
   "metadata": {},
   "source": [
    "oppgave 1e"
   ]
  },
  {
   "cell_type": "code",
   "execution_count": 33,
   "id": "38d9559c-cd0e-4648-9480-eebf8d68d2b6",
   "metadata": {},
   "outputs": [
    {
     "data": {
      "text/latex": [
       "$\\displaystyle 3 e^{3 x + 5}$"
      ],
      "text/plain": [
       "3*exp(3*x + 5)"
      ]
     },
     "execution_count": 33,
     "metadata": {},
     "output_type": "execute_result"
    }
   ],
   "source": [
    "eq63= sp.diff(sp.exp((3*x)+5))\n",
    "eq63"
   ]
  },
  {
   "cell_type": "markdown",
   "id": "1ac0f7f1-466e-49c7-b6ab-765f2e9daa71",
   "metadata": {},
   "source": [
    "oppgave 1f"
   ]
  },
  {
   "cell_type": "code",
   "execution_count": 36,
   "id": "62676cd6-fcd4-45fa-818c-d28cc22c8e9d",
   "metadata": {},
   "outputs": [
    {
     "data": {
      "text/latex": [
       "$\\displaystyle \\frac{5 x^{4}}{x^{5} + 1}$"
      ],
      "text/plain": [
       "5*x**4/(x**5 + 1)"
      ]
     },
     "execution_count": 36,
     "metadata": {},
     "output_type": "execute_result"
    }
   ],
   "source": [
    "eq64= sp.diff(sp.ln((x**5)+1))\n",
    "eq64"
   ]
  },
  {
   "cell_type": "markdown",
   "id": "1cfeade0-3261-464b-b415-cf9eb2a071ac",
   "metadata": {},
   "source": [
    "oppgave 1g"
   ]
  },
  {
   "cell_type": "code",
   "execution_count": 40,
   "id": "fe47963e-d2dc-460d-a3d7-e566816e9b91",
   "metadata": {},
   "outputs": [
    {
     "data": {
      "text/latex": [
       "$\\displaystyle \\left(16 x^{3} + 8\\right) e^{4 x^{4} + 8 x}$"
      ],
      "text/plain": [
       "(16*x**3 + 8)*exp(4*x**4 + 8*x)"
      ]
     },
     "execution_count": 40,
     "metadata": {},
     "output_type": "execute_result"
    }
   ],
   "source": [
    "eq65= sp.diff(sp.exp(4*(x**4)+8*x))\n",
    "eq65"
   ]
  },
  {
   "cell_type": "markdown",
   "id": "b976300f-1e80-42f1-b8a0-bf486001a3fc",
   "metadata": {},
   "source": [
    "oppgave 1h"
   ]
  },
  {
   "cell_type": "code",
   "execution_count": 41,
   "id": "d180efaa-6597-4217-83c1-e5090e61951a",
   "metadata": {},
   "outputs": [
    {
     "data": {
      "text/latex": [
       "$\\displaystyle - \\frac{1}{x}$"
      ],
      "text/plain": [
       "-1/x"
      ]
     },
     "execution_count": 41,
     "metadata": {},
     "output_type": "execute_result"
    }
   ],
   "source": [
    "eq66= sp.diff(sp.ln(1/x))\n",
    "eq66"
   ]
  },
  {
   "cell_type": "markdown",
   "id": "cf64e0d9-0b88-46b3-95df-7a851329385f",
   "metadata": {},
   "source": [
    "oppgave 1i"
   ]
  },
  {
   "cell_type": "code",
   "execution_count": 53,
   "id": "f2f59ab6-c790-4955-9407-4a8b626ef505",
   "metadata": {},
   "outputs": [
    {
     "data": {
      "text/latex": [
       "$\\displaystyle 12 e^{4 x} + \\frac{6}{x}$"
      ],
      "text/plain": [
       "12*exp(4*x) + 6/x"
      ]
     },
     "execution_count": 53,
     "metadata": {},
     "output_type": "execute_result"
    }
   ],
   "source": [
    "eq67 = sp.diff(6*(sp.ln(x)) + (3 * (sp.exp(4*x))))\n",
    "eq67"
   ]
  },
  {
   "cell_type": "markdown",
   "id": "7f6dd222-2a6b-4369-88ce-bba403bb78f5",
   "metadata": {},
   "source": [
    "oppgave 1j"
   ]
  },
  {
   "cell_type": "code",
   "execution_count": 57,
   "id": "35b6b4be-aaa7-49fe-9a01-a81f914ef584",
   "metadata": {},
   "outputs": [
    {
     "data": {
      "text/latex": [
       "$\\displaystyle - x e^{- x} + e^{- x}$"
      ],
      "text/plain": [
       "-x*exp(-x) + exp(-x)"
      ]
     },
     "execution_count": 57,
     "metadata": {},
     "output_type": "execute_result"
    }
   ],
   "source": [
    "eq68= sp.diff(x * sp.exp(-x))\n",
    "eq68"
   ]
  },
  {
   "cell_type": "markdown",
   "id": "92ed1e67-2a43-4272-a844-3996f3fa8092",
   "metadata": {},
   "source": [
    "oppgave 1k"
   ]
  },
  {
   "cell_type": "code",
   "execution_count": 58,
   "id": "40847fd2-916e-4d79-9837-f7270feb8a43",
   "metadata": {},
   "outputs": [
    {
     "data": {
      "text/latex": [
       "$\\displaystyle \\frac{2 x^{3}}{x^{2} + 2} + 2 x \\log{\\left(x^{2} + 2 \\right)}$"
      ],
      "text/plain": [
       "2*x**3/(x**2 + 2) + 2*x*log(x**2 + 2)"
      ]
     },
     "execution_count": 58,
     "metadata": {},
     "output_type": "execute_result"
    }
   ],
   "source": [
    "eq69= sp.diff((x**2)* sp.ln((x**2)+2))\n",
    "eq69"
   ]
  },
  {
   "cell_type": "markdown",
   "id": "64ae2a23-e7dd-4591-99ca-1874ff5c99c1",
   "metadata": {},
   "source": [
    "oppgave 2a"
   ]
  },
  {
   "cell_type": "code",
   "execution_count": 68,
   "id": "49112427-eca4-4176-b53b-998d9dbd680d",
   "metadata": {},
   "outputs": [
    {
     "data": {
      "text/latex": [
       "$\\displaystyle x^{2} \\left(2 x + 3\\right) e^{2 x}$"
      ],
      "text/plain": [
       "x**2*(2*x + 3)*exp(2*x)"
      ]
     },
     "execution_count": 68,
     "metadata": {},
     "output_type": "execute_result"
    }
   ],
   "source": [
    "eq70= sp.diff((x**3)* sp.exp(2*x))\n",
    "sp.simplify(eq70)"
   ]
  },
  {
   "cell_type": "markdown",
   "id": "d8b351bc-404d-4945-b3b4-ee804ba47f94",
   "metadata": {},
   "source": [
    "oppgave 2b"
   ]
  },
  {
   "cell_type": "code",
   "execution_count": 67,
   "id": "8242cec7-c4c3-4d6b-98c0-cc01e751c300",
   "metadata": {},
   "outputs": [
    {
     "data": {
      "text/latex": [
       "$\\displaystyle \\frac{4 x}{x^{4} - 1}$"
      ],
      "text/plain": [
       "4*x/(x**4 - 1)"
      ]
     },
     "execution_count": 67,
     "metadata": {},
     "output_type": "execute_result"
    }
   ],
   "source": [
    "eq71= sp.diff(sp.ln(((x**2)-1)/((x**2)+1)))\n",
    "sp.simplify(eq71)"
   ]
  },
  {
   "cell_type": "markdown",
   "id": "d433ac3d-8f3e-45a8-8bb0-0cbffd0b9d11",
   "metadata": {},
   "source": [
    "oppgave 1c"
   ]
  },
  {
   "cell_type": "code",
   "execution_count": 71,
   "id": "cccabd17-b227-4f4d-af2a-b1c8a1193dc5",
   "metadata": {},
   "outputs": [
    {
     "data": {
      "text/latex": [
       "$\\displaystyle \\frac{2 x^{3}}{x^{2} + 2} + 2 x \\log{\\left(x^{2} + 2 \\right)}$"
      ],
      "text/plain": [
       "2*x**3/(x**2 + 2) + 2*x*log(x**2 + 2)"
      ]
     },
     "execution_count": 71,
     "metadata": {},
     "output_type": "execute_result"
    }
   ],
   "source": [
    "eq72= sp.diff((x**2)* sp.ln((x**2)+2))\n",
    "eq72"
   ]
  },
  {
   "cell_type": "markdown",
   "id": "3fd5a514-7b12-474f-8dfe-b511ff072b32",
   "metadata": {},
   "source": [
    "oppgave 2d"
   ]
  },
  {
   "cell_type": "code",
   "execution_count": 77,
   "id": "6e50c589-fdb0-4a0b-bee2-dc1004459d79",
   "metadata": {},
   "outputs": [
    {
     "data": {
      "text/latex": [
       "$\\displaystyle \\frac{- 2 x^{2} \\log{\\left(- x \\right)} + x^{2} + 1}{x \\left(x^{2} + 1\\right)^{2}}$"
      ],
      "text/plain": [
       "(-2*x**2*log(-x) + x**2 + 1)/(x*(x**2 + 1)**2)"
      ]
     },
     "execution_count": 77,
     "metadata": {},
     "output_type": "execute_result"
    }
   ],
   "source": [
    "eq73= sp.diff((sp.ln(-x)/((x**2)+1)))\n",
    "sp.simplify(eq73)"
   ]
  },
  {
   "cell_type": "code",
   "execution_count": null,
   "id": "3d666bed-5fec-4f74-a7a1-4ace715e179d",
   "metadata": {},
   "outputs": [],
   "source": []
  }
 ],
 "metadata": {
  "kernelspec": {
   "display_name": "Python 3 (ipykernel)",
   "language": "python",
   "name": "python3"
  },
  "language_info": {
   "codemirror_mode": {
    "name": "ipython",
    "version": 3
   },
   "file_extension": ".py",
   "mimetype": "text/x-python",
   "name": "python",
   "nbconvert_exporter": "python",
   "pygments_lexer": "ipython3",
   "version": "3.9.5"
  }
 },
 "nbformat": 4,
 "nbformat_minor": 5
}
