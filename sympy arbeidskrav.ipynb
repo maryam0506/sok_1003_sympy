{
 "cells": [
  {
   "cell_type": "markdown",
   "id": "4da6a061-b250-480e-a8af-67433372ac2f",
   "metadata": {},
   "source": [
    "## Sympy arbeidskrav 5\n",
    "\n",
    "Oppgave 1a:"
   ]
  },
  {
   "cell_type": "code",
   "execution_count": 7,
   "id": "eacc44fc-3c47-4e05-bede-413f1984096c",
   "metadata": {},
   "outputs": [
    {
     "name": "stdout",
     "output_type": "stream",
     "text": [
      "{x: -1, y: 2}\n"
     ]
    }
   ],
   "source": [
    "import sympy as sp\n",
    "from sympy.solvers import solve\n",
    "x,y = sp.symbols('x y')\n",
    "\n",
    "import pandas as pd\n",
    "import numpy as np\n",
    "import matplotlib.pyplot as plt\n",
    "\n",
    "eq1 = sp.Eq(2*x + 4*y, 6)\n",
    "eq1\n",
    "\n",
    "eq2 = sp.Eq(-2*x + y, 4)\n",
    "eq2\n",
    "\n",
    "result = solve ([eq1, eq2], [x, y])\n",
    "sol\n",
    "\n",
    "print(result)"
   ]
  },
  {
   "cell_type": "markdown",
   "id": "09866ba8-be4e-4b94-90ef-0e57e1547141",
   "metadata": {},
   "source": [
    "Oppgave 1b:\n"
   ]
  },
  {
   "cell_type": "code",
   "execution_count": 11,
   "id": "c6b38dda-af54-463c-a1b6-b3dbdf771bce",
   "metadata": {},
   "outputs": [
    {
     "name": "stdout",
     "output_type": "stream",
     "text": [
      "[(-1, -1), (2, 5)]\n"
     ]
    }
   ],
   "source": [
    "eq3= sp.Eq(2*x - y, -1)\n",
    "eq4= sp.Eq(x**2 + x - y, 1)\n",
    "\n",
    "result1= solve ([eq3, eq4], [x,y])\n",
    "\n",
    "print(result1)"
   ]
  },
  {
   "cell_type": "markdown",
   "id": "607ceb79-5e25-4053-9c5d-180dd38e8043",
   "metadata": {},
   "source": [
    "oppgave 2a:\n"
   ]
  },
  {
   "cell_type": "code",
   "execution_count": 16,
   "id": "1ca63e7d-e45b-4f34-9421-429bd2ac7647",
   "metadata": {},
   "outputs": [
    {
     "name": "stdout",
     "output_type": "stream",
     "text": [
      "{x: 4, y: 0}\n"
     ]
    }
   ],
   "source": [
    "eq5= sp.Eq(3*x - 12, -6*y)\n",
    "eq6= sp.Eq(4*x - 8*y, 16)\n",
    "\n",
    "result2= solve([eq5, eq6], [x,y])\n",
    "\n",
    "print(result2)"
   ]
  },
  {
   "cell_type": "code",
   "execution_count": null,
   "id": "8d0e4afa-16a4-4202-b54c-b459012ab590",
   "metadata": {},
   "outputs": [],
   "source": []
  }
 ],
 "metadata": {
  "kernelspec": {
   "display_name": "Python 3 (ipykernel)",
   "language": "python",
   "name": "python3"
  },
  "language_info": {
   "codemirror_mode": {
    "name": "ipython",
    "version": 3
   },
   "file_extension": ".py",
   "mimetype": "text/x-python",
   "name": "python",
   "nbconvert_exporter": "python",
   "pygments_lexer": "ipython3",
   "version": "3.9.5"
  }
 },
 "nbformat": 4,
 "nbformat_minor": 5
}
